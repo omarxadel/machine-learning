{
 "cells": [
  {
   "cell_type": "markdown",
   "id": "27e6ca75",
   "metadata": {},
   "source": [
    "### PyTorch Tensors Introduction\n",
    "A tensor is a data structure in the torch library that is similar to arrays"
   ]
  },
  {
   "cell_type": "code",
   "execution_count": 4,
   "id": "3d89b107",
   "metadata": {},
   "outputs": [
    {
     "data": {
      "text/plain": [
       "tensor([[1, 2, 3],\n",
       "        [4, 5, 6]])"
      ]
     },
     "execution_count": 4,
     "metadata": {},
     "output_type": "execute_result"
    }
   ],
   "source": [
    "# Initializing a tensor from a python list\n",
    "import torch\n",
    "my_list = [[1, 2, 3], [4, 5, 6]]\n",
    "tensor = torch.tensor(my_list)\n",
    "tensor"
   ]
  },
  {
   "cell_type": "code",
   "execution_count": 5,
   "id": "37ee3ea1",
   "metadata": {},
   "outputs": [
    {
     "data": {
      "text/plain": [
       "torch.Size([2, 3])"
      ]
     },
     "execution_count": 5,
     "metadata": {},
     "output_type": "execute_result"
    }
   ],
   "source": [
    "# Get the shape of a tensor\n",
    "tensor.shape"
   ]
  },
  {
   "cell_type": "code",
   "execution_count": 6,
   "id": "406ae09f",
   "metadata": {},
   "outputs": [
    {
     "data": {
      "text/plain": [
       "torch.int64"
      ]
     },
     "execution_count": 6,
     "metadata": {},
     "output_type": "execute_result"
    }
   ],
   "source": [
    "# Get the data type of a tensor\n",
    "tensor.dtype"
   ]
  },
  {
   "cell_type": "code",
   "execution_count": 7,
   "id": "27980692",
   "metadata": {},
   "outputs": [
    {
     "name": "stdout",
     "output_type": "stream",
     "text": [
      "tensor([[4, 4],\n",
      "        [6, 6]])\n"
     ]
    }
   ],
   "source": [
    "# When tensor shapes are compatible, you can do arithmetic operations on them\n",
    "a = torch.tensor([[1, 1], [2, 2]])\n",
    "b = torch.tensor([[3, 3], [4, 4]])\n",
    "\n",
    "print(a + b)"
   ]
  },
  {
   "cell_type": "code",
   "execution_count": 10,
   "id": "d1278188",
   "metadata": {},
   "outputs": [
    {
     "ename": "RuntimeError",
     "evalue": "The size of tensor a (3) must match the size of tensor b (2) at non-singleton dimension 1",
     "output_type": "error",
     "traceback": [
      "\u001b[1;31m---------------------------------------------------------------------------\u001b[0m",
      "\u001b[1;31mRuntimeError\u001b[0m                              Traceback (most recent call last)",
      "Cell \u001b[1;32mIn[10], line 4\u001b[0m\n\u001b[0;32m      2\u001b[0m a \u001b[38;5;241m=\u001b[39m torch\u001b[38;5;241m.\u001b[39mtensor([[\u001b[38;5;241m2\u001b[39m, \u001b[38;5;241m2\u001b[39m, \u001b[38;5;241m2\u001b[39m], [\u001b[38;5;241m4\u001b[39m, \u001b[38;5;241m4\u001b[39m, \u001b[38;5;241m4\u001b[39m]])\n\u001b[0;32m      3\u001b[0m b \u001b[38;5;241m=\u001b[39m torch\u001b[38;5;241m.\u001b[39mtensor([[\u001b[38;5;241m3\u001b[39m, \u001b[38;5;241m3\u001b[39m]])\n\u001b[1;32m----> 4\u001b[0m \u001b[38;5;28mprint\u001b[39m(a \u001b[38;5;241m+\u001b[39m b)\n",
      "\u001b[1;31mRuntimeError\u001b[0m: The size of tensor a (3) must match the size of tensor b (2) at non-singleton dimension 1"
     ]
    }
   ],
   "source": [
    "# When tensor shapes are incompatible, you get an error\n",
    "a = torch.tensor([[2, 2, 2], [4, 4, 4]])\n",
    "b = torch.tensor([[3, 3]])\n",
    "print(a + b)"
   ]
  },
  {
   "cell_type": "code",
   "execution_count": 12,
   "id": "0a8fd51c",
   "metadata": {},
   "outputs": [
    {
     "name": "stdout",
     "output_type": "stream",
     "text": [
      "tensor([[ 6,  6,  6],\n",
      "        [20, 20, 20]])\n",
      "tensor([[ 6,  6,  6],\n",
      "        [20, 20, 20]])\n"
     ]
    }
   ],
   "source": [
    "# We can perform element-wise multiplication on tensors\n",
    "a = torch.tensor([[2, 2, 2], [4, 4, 4]])\n",
    "b = torch.tensor([[3, 3, 3], [5, 5, 5]])\n",
    "print(torch.mul(a, b))\n",
    "print(a * b)"
   ]
  },
  {
   "cell_type": "code",
   "execution_count": 14,
   "id": "81c2391a",
   "metadata": {},
   "outputs": [
    {
     "name": "stdout",
     "output_type": "stream",
     "text": [
      "tensor([[16, 16],\n",
      "        [32, 32]])\n",
      "tensor([[16, 16],\n",
      "        [32, 32]])\n"
     ]
    }
   ],
   "source": [
    "# Matrix multiplication\n",
    "a = torch.tensor([[2, 2], [4, 4]])\n",
    "b = torch.tensor([[3, 3], [5, 5]])\n",
    "print(torch.matmul(a, b))\n",
    "print(a @ b)"
   ]
  }
 ],
 "metadata": {
  "kernelspec": {
   "display_name": "cs224n",
   "language": "python",
   "name": "python3"
  },
  "language_info": {
   "codemirror_mode": {
    "name": "ipython",
    "version": 3
   },
   "file_extension": ".py",
   "mimetype": "text/x-python",
   "name": "python",
   "nbconvert_exporter": "python",
   "pygments_lexer": "ipython3",
   "version": "3.12.9"
  }
 },
 "nbformat": 4,
 "nbformat_minor": 5
}
